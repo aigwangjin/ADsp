{
 "cells": [
  {
   "cell_type": "code",
   "execution_count": 2,
   "metadata": {},
   "outputs": [
    {
     "name": "stdout",
     "output_type": "stream",
     "text": [
      "패스워드를 입력하세요:1234\n",
      "환영합니다. 어서오세요\n"
     ]
    }
   ],
   "source": [
    "password = 1234\n",
    "\n",
    "pw = int(input('패스워드를 입력하세요:'))\n",
    "if pw == 1234:\n",
    "    print('환영합니다. 어서오세요')\n"
   ]
  },
  {
   "cell_type": "code",
   "execution_count": 6,
   "metadata": {},
   "outputs": [
    {
     "name": "stdout",
     "output_type": "stream",
     "text": [
      "--->5\n",
      "--->6\n",
      "5 is less than 6\n"
     ]
    }
   ],
   "source": [
    "x = int(input('--->'))\n",
    "y = int(input('--->'))\n",
    "\n",
    "if x> y:\n",
    "    print('{0} is less than {1}'.format(y,x))\n",
    "elif x<y:\n",
    "     print('{1} is less than {0}'.format(y,x))\n",
    "else :\n",
    "    print(\"또이또이\")"
   ]
  },
  {
   "cell_type": "code",
   "execution_count": 4,
   "metadata": {},
   "outputs": [
    {
     "name": "stdout",
     "output_type": "stream",
     "text": [
      "--->2\n"
     ]
    }
   ],
   "source": [
    "score = int(input('--->'))\n",
    "\n"
   ]
  },
  {
   "cell_type": "code",
   "execution_count": 9,
   "metadata": {},
   "outputs": [
    {
     "name": "stdout",
     "output_type": "stream",
     "text": [
      "--->2\n",
      "x is even number\n"
     ]
    }
   ],
   "source": [
    "x = int(input('--->'))\n",
    "if x%2 == 0:\n",
    "    print('x is even number')"
   ]
  },
  {
   "cell_type": "code",
   "execution_count": 1,
   "metadata": {},
   "outputs": [
    {
     "name": "stdout",
     "output_type": "stream",
     "text": [
      "이름을 입력하세요kim\n",
      "{'Mary': 10999, 'Sams': 2111, 'Aimy': 9778, 'Tom': 20245, 'Michale': 27115, 'Bob': 5887, 'Kelly': 7855, 'kim': '00000'}\n"
     ]
    }
   ],
   "source": [
    "names = {'Mary':10999, 'Sams':2111, 'Aimy':9778, 'Tom':20245, \n",
    "'Michale':27115, 'Bob':5887, 'Kelly':7855}\n",
    "\n",
    "nam = input('이름을 입력하세요')\n",
    "\n",
    "if nam in names.keys():\n",
    "    print(names[nam])\n",
    "else:\n",
    "    names.setdefault(nam,'00000')\n",
    "    print(names)\n",
    "\n",
    "\n",
    "# 이름이 있으면 값을 출력 이름이 없으면 names dict에 name과 값00000을 입력"
   ]
  },
  {
   "cell_type": "code",
   "execution_count": null,
   "metadata": {},
   "outputs": [],
   "source": []
  },
  {
   "cell_type": "code",
   "execution_count": null,
   "metadata": {},
   "outputs": [],
   "source": []
  },
  {
   "cell_type": "code",
   "execution_count": null,
   "metadata": {},
   "outputs": [],
   "source": []
  },
  {
   "cell_type": "code",
   "execution_count": null,
   "metadata": {},
   "outputs": [],
   "source": []
  }
 ],
 "metadata": {
  "kernelspec": {
   "display_name": "Python 3",
   "language": "python",
   "name": "python3"
  },
  "language_info": {
   "codemirror_mode": {
    "name": "ipython",
    "version": 3
   },
   "file_extension": ".py",
   "mimetype": "text/x-python",
   "name": "python",
   "nbconvert_exporter": "python",
   "pygments_lexer": "ipython3",
   "version": "3.6.5"
  }
 },
 "nbformat": 4,
 "nbformat_minor": 2
}
