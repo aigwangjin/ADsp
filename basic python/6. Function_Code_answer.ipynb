{
 "cells": [
  {
   "cell_type": "markdown",
   "metadata": {},
   "source": [
    "## Function_Sample_Code"
   ]
  },
  {
   "cell_type": "code",
   "execution_count": 1,
   "metadata": {},
   "outputs": [
    {
     "name": "stdout",
     "output_type": "stream",
     "text": [
      "25\n",
      "대한민국~만세!!\n"
     ]
    }
   ],
   "source": [
    "def add_number(n1, n2):\n",
    "   ret = n1+n2\n",
    "   return ret\n",
    "\n",
    "def add_txt(t1, t2):\n",
    "   print(t1+t2)\n",
    " \n",
    "ans = add_number(10, 15)\n",
    "print(ans)                   # 25가 출력됨\n",
    "text1 = '대한민국~'\n",
    "text2 ='만세!!'\n",
    "add_txt(text1, text2)         # ‘대한민국~만세!!’가 출력됨\n"
   ]
  },
  {
   "cell_type": "code",
   "execution_count": 2,
   "metadata": {},
   "outputs": [
    {
     "name": "stdout",
     "output_type": "stream",
     "text": [
      "베스트 : 파이썬\n",
      "1등 : 대한민국\n",
      "()\n",
      "(3, 5, 1, 5)\n",
      "200 {}\n",
      "200 {'depth': 50, 'color': 'blue'}\n"
     ]
    }
   ],
   "source": [
    "def add_txt(t1, t2='파이썬'):\n",
    "   print(t1+' : ' +t2)\n",
    "   \n",
    "add_txt('베스트')                   # ‘베스트 : 파이썬’이 출력됨\n",
    "add_txt(t2='대한민국', t1='1등')    # ‘1등 : 대한민국’이 출력됨\n",
    "\n",
    "def func1(*args):\n",
    "   print(args)\n",
    "\n",
    "def func2(width, height, **kwargs):\n",
    "   print(width*height, kwargs)\n",
    "\n",
    "func1()                          # 빈 튜플 ( ) 이 출력됨\n",
    "func1(3, 5, 1, 5)                  # (3, 5, 1, 5)가 출력됨\n",
    "func2(10, 20)                          # 빈 사전 { }이 출력됨\n",
    "func2(10, 20, depth=50, color='blue')  #{‘depth’:50, ‘color’:’blue’} 이 출력됨"
   ]
  },
  {
   "cell_type": "code",
   "execution_count": 17,
   "metadata": {},
   "outputs": [
    {
     "name": "stdout",
     "output_type": "stream",
     "text": [
      "good morning Everyone\n",
      "good morning Mr. Park\n"
     ]
    }
   ],
   "source": [
    "def report(message, who='Everyone'):\n",
    "    print(message, who)\n",
    "\n",
    "report('good morning')\n",
    "report('good morning', 'Mr. Park')\n"
   ]
  },
  {
   "cell_type": "code",
   "execution_count": 18,
   "metadata": {},
   "outputs": [
    {
     "name": "stdout",
     "output_type": "stream",
     "text": [
      "[2, 4]\n",
      "[-12, 2, 48, 20]\n"
     ]
    }
   ],
   "source": [
    "def select_even(*arg):\n",
    "    result = []\n",
    "    for num in arg:\n",
    "        if num%2 == 1:\n",
    "            continue\n",
    "        result.append(num)\n",
    "    return result\n",
    "\n",
    "print(select_even(1,2,3,4))\n",
    "print(select_even(-12, 2, 81, 99, 48, 20))\n"
   ]
  },
  {
   "cell_type": "code",
   "execution_count": null,
   "metadata": {},
   "outputs": [],
   "source": [
    "def minmax(L):\n",
    "\tnMin = nMax = L[0]\n",
    "\tfor n in L:\n",
    "\t\tif nMin > n:\n",
    "\t\t    nMin = n\n",
    "\t\tif nMax < n:\n",
    "\t\t    nMax = n\n",
    "\treturn nMin, nMax"
   ]
  },
  {
   "cell_type": "code",
   "execution_count": 2,
   "metadata": {},
   "outputs": [],
   "source": [
    "def varSum(*args, **kwargs):\n",
    "    print(\"args = \", args)\n",
    "    print(\"kwargs=\", kwargs)\n"
   ]
  },
  {
   "cell_type": "code",
   "execution_count": 3,
   "metadata": {},
   "outputs": [
    {
     "name": "stdout",
     "output_type": "stream",
     "text": [
      "args =  (1, 2, 3, 4)\n",
      "kwargs= {'a': 'A', 'b': 'B'}\n"
     ]
    }
   ],
   "source": [
    "varSum(1,2,3,4, a='A', b=\"B\")"
   ]
  },
  {
   "cell_type": "code",
   "execution_count": null,
   "metadata": {},
   "outputs": [],
   "source": []
  }
 ],
 "metadata": {
  "kernelspec": {
   "display_name": "Python 3",
   "language": "python",
   "name": "python3"
  },
  "language_info": {
   "codemirror_mode": {
    "name": "ipython",
    "version": 3
   },
   "file_extension": ".py",
   "mimetype": "text/x-python",
   "name": "python",
   "nbconvert_exporter": "python",
   "pygments_lexer": "ipython3",
   "version": "3.6.4"
  }
 },
 "nbformat": 4,
 "nbformat_minor": 2
}
