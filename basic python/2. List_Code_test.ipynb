{
 "cells": [
  {
   "cell_type": "markdown",
   "metadata": {},
   "source": [
    "## List Sample Code"
   ]
  },
  {
   "cell_type": "code",
   "execution_count": 10,
   "metadata": {},
   "outputs": [
    {
     "name": "stdout",
     "output_type": "stream",
     "text": [
      "[0, 1, 2, 3, 4, 5, 6, 7, 8]\n",
      "[10, 11, 12, 13, 14, 15, 16, 17, 18]\n"
     ]
    }
   ],
   "source": [
    "#range() 함수를 사용.\n",
    "# [0 ,1 , 2, 3, 4, 5, 6, 7, 8, 9]가 출력됨\n",
    "# [10, 11, 12, 13, 14, 15, 16, 17, 18, 19]가 출력됨\n",
    "L=[]\n",
    "for i in range(0,9):\n",
    "    L.append(i)\n",
    "print(L)\n",
    "L=[]\n",
    "for i in range(10,19):\n",
    "    L.append(i)\n",
    "print(L)\n"
   ]
  },
  {
   "cell_type": "code",
   "execution_count": 24,
   "metadata": {},
   "outputs": [
    {
     "name": "stdout",
     "output_type": "stream",
     "text": [
      "2\n",
      "b\n",
      "5\n",
      "나\n",
      "[1, 'a', 'c', '가']\n"
     ]
    }
   ],
   "source": [
    "listdata = [1, 2, 'a', 'b', 'c', [4, 5, 6], '가', '나']\n",
    "   # 2가 출력됨\n",
    "   # ‘b’가 출력됨\n",
    "   # 5가 출력됨\n",
    "   # 맨 마지막 원소가 추출됨\n",
    "   # 홀수 번 자리 요소만 추출\n",
    "print(listdata[1])\n",
    "print(listdata[3])\n",
    "print(listdata[5][1])\n",
    "print(listdata[-1])\n",
    "print(listdata[0::2])"
   ]
  },
  {
   "cell_type": "code",
   "execution_count": 17,
   "metadata": {},
   "outputs": [
    {
     "name": "stdout",
     "output_type": "stream",
     "text": [
      "행성이름 무엇?토성\n",
      "{0}은 태양계에서 {1}번째 위치하고 있습니다 토성 7\n"
     ]
    }
   ],
   "source": [
    "solarsys = ['태양', '수성', '금성', '지구', '화성', '목성', '지구']\n",
    "solarsys1 = ['토성', '천왕성', '해왕성']\n",
    "\n",
    "\n",
    "# 행성의 이름을 입력받는다\n",
    "# format()함수를 이용해서\n",
    "# \"__은 태양계에서 __번째 위치하고 있습니다.\" 를 출력\n",
    "solar = solarsys + solarsys1\n",
    "a = input('행성이름 무엇?')\n",
    "print('{0}은 태양계에서 {1}번째 위치하고 있습니다',a, solar.index(a))"
   ]
  },
  {
   "cell_type": "code",
   "execution_count": null,
   "metadata": {},
   "outputs": [],
   "source": [
    "solarsys = ['태양', '수성', '금성', '지구', '화성', '목성', '지구']\n",
    "solarsys1 = ['토성', '천왕성', '해왕성']\n",
    "planet = '지구'"
   ]
  },
  {
   "cell_type": "code",
   "execution_count": 27,
   "metadata": {},
   "outputs": [
    {
     "ename": "SyntaxError",
     "evalue": "invalid syntax (<ipython-input-27-99c3605e5bba>, line 43)",
     "output_type": "error",
     "traceback": [
      "\u001b[1;36m  File \u001b[1;32m\"<ipython-input-27-99c3605e5bba>\"\u001b[1;36m, line \u001b[1;32m43\u001b[0m\n\u001b[1;33m    solarsys.remove(0:2)\u001b[0m\n\u001b[1;37m                     ^\u001b[0m\n\u001b[1;31mSyntaxError\u001b[0m\u001b[1;31m:\u001b[0m invalid syntax\n"
     ]
    }
   ],
   "source": [
    "#1. solarsys 에서 ['수성', '금성', '지구'] 를 출력\n",
    "solarsys = ['태양', '수성', '금성', '지구', '화성', '목성', '지구']\n",
    "solarsys1 = ['토성', '천왕성', '해왕성']\n",
    "\n",
    "print(solarsys[1:4])\n",
    "\n",
    "#2. solarsys에서 '지구'의 위치값 출력\n",
    "solarsys = ['태양', '수성', '금성', '지구', '화성', '목성', '지구']\n",
    "solarsys1 = ['토성', '천왕성', '해왕성']\n",
    "print(solarsys.index('지구'))\n",
    "\n",
    "#3. solarsys에서 '화성'을 '해왕성'으로 수정\n",
    "solarsys = ['태양', '수성', '금성', '지구', '화성', '목성', '지구']\n",
    "solarsys1 = ['토성', '천왕성', '해왕성']\n",
    "idx= solarsys.index('화성')\n",
    "solarsys[idx]='해왕성'\n",
    "print(solarsys)\n",
    "\n",
    "#4. solarsys에서 '수성' 자리에 '명왕성'을 삽입\n",
    "solarsys = ['태양', '수성', '금성', '지구', '화성', '목성', '지구']\n",
    "solarsys1 = ['토성', '천왕성', '해왕성']\n",
    "idx=solarsys.index('수성')\n",
    "solarsys.insert(idx,'명왕성')\n",
    "\n",
    "#5. solarsys에 '토성'을 맨 끝에 첨가\n",
    "solarsys = ['태양', '수성', '금성', '지구', '화성', '목성', '지구']\n",
    "solarsys1 = ['토성', '천왕성', '해왕성']\n",
    "solarsys.append('토성')\n",
    "\n",
    "#6. solarsys에 맨 끝 요소를 제거하고 리턴\n",
    "solarsys = ['태양', '수성', '금성', '지구', '화성', '목성', '지구']\n",
    "solarsys1 = ['토성', '천왕성', '해왕성']\n",
    "solarsys.pop()\n",
    "\n",
    "#7. solarsys에서 '금성'을 제거\n",
    "solarsys = ['태양', '수성', '금성', '지구', '화성', '목성', '지구']\n",
    "solarsys1 = ['토성', '천왕성', '해왕성']\n",
    "solarsys.remove('금성')\n",
    "\n",
    "#8. solarsys에서 1번째에서 3번째까지 삭제\n",
    "solarsys = ['태양', '수성', '금성', '지구', '화성', '목성', '지구']\n",
    "solarsys1 = ['토성', '천왕성', '해왕성']\n",
    "solarsys.remove(0:2)\n",
    "\n",
    "#9. solarsys에서 인덱스값 2번 요소를 삭제\n",
    "solarsys = ['태양', '수성', '금성', '지구', '화성', '목성', '지구']\n",
    "solarsys1 = ['토성', '천왕성', '해왕성']\n",
    "solarsys.pop(2)\n",
    "\n",
    "#10.solarsys와 solarsys1을 합하시요.\n",
    "solarsys = ['태양', '수성', '금성', '지구', '화성', '목성', '지구']\n",
    "solarsys1 = ['토성', '천왕성', '해왕성']\n",
    "solar = solarsys + solarsys1\n",
    "\n",
    "#11. solarsys를 오름차순으로 정력하세요.\n",
    "solarsys = ['태양', '수성', '금성', '지구', '화성', '목성', '지구']\n",
    "solarsys1 = ['토성', '천왕성', '해왕성']\n",
    "solarsys.sort()\n",
    "\n",
    "#12. solarsys를 내림차순으로 정렬하세요.\n",
    "solarsys = ['태양', '수성', '금성', '지구', '화성', '목성', '지구']\n",
    "solarsys1 = ['토성', '천왕성', '해왕성']\n",
    "solarsys.sort(reverse=True)\n",
    "\n",
    "#13. solarsys의 원소의 순서를 바꾸세요.\n",
    "solarsys = ['태양', '수성', '금성', '지구', '화성', '목성', '지구']\n",
    "solarsys1 = ['토성', '천왕성', '해왕성']\n",
    "\n",
    "\n",
    "#14. solarsys에 '만리장성'이 있는지 확인하세요.\n",
    "solarsys = ['태양', '수성', '금성', '지구', '화성', '목성', '지구']\n",
    "solarsys1 = ['토성', '천왕성', '해왕성']\n",
    "\n",
    "\n",
    "#15. solarsys를 3번 반복하세요.\n",
    "solarsys = ['태양', '수성', '금성', '지구', '화성', '목성', '지구']\n",
    "solarsys1 = ['토성', '천왕성', '해왕성']\n",
    "for i in 3:\n",
    "    print(solarsys)\n",
    "\n",
    "#16. solarsys의 길이를 리턴하세요.\n",
    "solarsys = ['태양', '수성', '금성', '지구', '화성', '목성', '지구']\n",
    "solarsys1 = ['토성', '천왕성', '해왕성']\n",
    "solarsys.len()\n",
    "\n",
    "#17. solarsys에서 '지구'의 갯수를 출력하세요.\n",
    "solarsys = ['태양', '수성', '금성', '지구', '화성', '목성', '지구']\n",
    "solarsys1 = ['토성', '천왕성', '해왕성']\n",
    "solarsys.count('지구')\n",
    "\n",
    "\n",
    "#18. solarsys의 요소 순서을 역순으로 하시오.\n",
    "solarsys = ['태양', '수성', '금성', '지구', '화성', '목성', '지구']\n",
    "solarsys1 = ['토성', '천왕성', '해왕성']\n",
    "solarsys.reverse()\n",
    "\n",
    "#19. solarsys의 모든 원소를 지워세요.\n",
    "solarsys = ['태양', '수성', '금성', '지구', '화성', '목성', '지구']\n",
    "solarsys1 = ['토성', '천왕성', '해왕성']\n",
    "solarsys.remove(:)\n",
    "\n",
    "#20. solarsys 리스트를 삭제하세요.\"\"\"\n",
    "solarsys = ['태양', '수성', '금성', '지구', '화성', '목성', '지구']\n",
    "solarsys1 = ['토성', '천왕성', '해왕성']\n",
    "solarsys.clear()\n"
   ]
  },
  {
   "cell_type": "code",
   "execution_count": null,
   "metadata": {},
   "outputs": [],
   "source": []
  }
 ],
 "metadata": {
  "kernelspec": {
   "display_name": "Python 3",
   "language": "python",
   "name": "python3"
  },
  "language_info": {
   "codemirror_mode": {
    "name": "ipython",
    "version": 3
   },
   "file_extension": ".py",
   "mimetype": "text/x-python",
   "name": "python",
   "nbconvert_exporter": "python",
   "pygments_lexer": "ipython3",
   "version": "3.6.5"
  }
 },
 "nbformat": 4,
 "nbformat_minor": 2
}
