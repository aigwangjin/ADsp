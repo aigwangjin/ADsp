{
 "cells": [
  {
   "cell_type": "markdown",
   "metadata": {},
   "source": [
    "## Class"
   ]
  },
  {
   "cell_type": "code",
   "execution_count": null,
   "metadata": {},
   "outputs": [],
   "source": [
    "class FourCal:\n",
    "     def __init__(self, first, second):\n",
    "         self.first = first\n",
    "         self.second = second\n",
    "     def sum(self):\n",
    "         result = self.first + self.second\n",
    "         return result\n",
    "     def mul(self):\n",
    "         result = self.first * self.second\n",
    "         return result\n",
    "     def sub(self):\n",
    "         result = self.first - self.second\n",
    "         return result\n",
    "     def div(self):\n",
    "         result = self.first / self.second\n",
    "         return result"
   ]
  },
  {
   "cell_type": "code",
   "execution_count": null,
   "metadata": {},
   "outputs": [],
   "source": []
  },
  {
   "cell_type": "code",
   "execution_count": 27,
   "metadata": {},
   "outputs": [],
   "source": [
    "class FourCal:\n",
    "    third = 10           # 클래스변수 -인스턴스 간 값 공유\n",
    "    def __init__(self. first, second ):\n",
    "        self.first = first      # 인스턴스변수 - 클래스 내 값 공유\n",
    "        self.second = second\n",
    "    def setdata(self, first, second):\n",
    "        self.first = first\n",
    "        self.second = second\n",
    "    def sum1(self):\n",
    "        result = self.first + self.second\n",
    "        return result\n",
    "    def sum2(self, a, b): # 값 공유 안 함\n",
    "        result = a + b\n",
    "        return result\n",
    "    def sum3(self, a):\n",
    "        result = a + self.third\n",
    "        return result\n",
    "    \n"
   ]
  },
  {
   "cell_type": "code",
   "execution_count": 28,
   "metadata": {},
   "outputs": [],
   "source": [
    "aa = FourCal(1,2)"
   ]
  },
  {
   "cell_type": "code",
   "execution_count": 29,
   "metadata": {},
   "outputs": [
    {
     "data": {
      "text/plain": [
       "3"
      ]
     },
     "execution_count": 29,
     "metadata": {},
     "output_type": "execute_result"
    }
   ],
   "source": [
    "aa.sum1()"
   ]
  },
  {
   "cell_type": "code",
   "execution_count": 30,
   "metadata": {},
   "outputs": [
    {
     "data": {
      "text/plain": [
       "6"
      ]
     },
     "execution_count": 30,
     "metadata": {},
     "output_type": "execute_result"
    }
   ],
   "source": [
    "aa.sum2(2,4)"
   ]
  },
  {
   "cell_type": "code",
   "execution_count": 31,
   "metadata": {},
   "outputs": [
    {
     "data": {
      "text/plain": [
       "12"
      ]
     },
     "execution_count": 31,
     "metadata": {},
     "output_type": "execute_result"
    }
   ],
   "source": [
    "aa.sum3(2)"
   ]
  },
  {
   "cell_type": "code",
   "execution_count": 50,
   "metadata": {},
   "outputs": [],
   "source": [
    "class HousePark:\n",
    "    lastname = '박'\n",
    "    other = '순이'\n",
    "    \n",
    "    def __init__(self, name):\n",
    "        self.fullname = self.lastname + name\n",
    "    def travel(self, where):\n",
    "        print(\"{}, {} 여행을 가다\".format(self.fullname, where))\n",
    "    def love(self, other):\n",
    "        print('{}. {} 사랑에 빠졌네'.format(self.fullname, other))\n",
    "    def fight(self):\n",
    "        print('{}, {} 싸우네'.format(self.fullname, self.other))"
   ]
  },
  {
   "cell_type": "code",
   "execution_count": 51,
   "metadata": {},
   "outputs": [],
   "source": [
    "minho = HousePark('민호')"
   ]
  },
  {
   "cell_type": "code",
   "execution_count": 52,
   "metadata": {},
   "outputs": [
    {
     "name": "stdout",
     "output_type": "stream",
     "text": [
      "박민호, 부산 여행을 가다\n"
     ]
    }
   ],
   "source": [
    "minho.travel('부산')"
   ]
  },
  {
   "cell_type": "code",
   "execution_count": 53,
   "metadata": {},
   "outputs": [
    {
     "name": "stdout",
     "output_type": "stream",
     "text": [
      "박민호. 영애 사랑에 빠졌네\n"
     ]
    }
   ],
   "source": [
    " minho.love('영애')"
   ]
  },
  {
   "cell_type": "code",
   "execution_count": 54,
   "metadata": {},
   "outputs": [
    {
     "name": "stdout",
     "output_type": "stream",
     "text": [
      "박민호, 순이 싸우네\n"
     ]
    }
   ],
   "source": [
    "minho.fight()"
   ]
  },
  {
   "cell_type": "code",
   "execution_count": null,
   "metadata": {},
   "outputs": [],
   "source": []
  }
 ],
 "metadata": {
  "kernelspec": {
   "display_name": "Python 3",
   "language": "python",
   "name": "python3"
  },
  "language_info": {
   "codemirror_mode": {
    "name": "ipython",
    "version": 3
   },
   "file_extension": ".py",
   "mimetype": "text/x-python",
   "name": "python",
   "nbconvert_exporter": "python",
   "pygments_lexer": "ipython3",
   "version": "3.6.4"
  }
 },
 "nbformat": 4,
 "nbformat_minor": 2
}
